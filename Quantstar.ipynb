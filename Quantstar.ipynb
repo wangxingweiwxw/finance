{
 "cells": [
  {
   "cell_type": "code",
   "execution_count": 2,
   "id": "initial_id",
   "metadata": {
    "ExecuteTime": {
     "end_time": "2025-02-23T06:55:29.340839Z",
     "start_time": "2025-02-23T06:55:28.194940Z"
    },
    "collapsed": true,
    "jupyter": {
     "outputs_hidden": true
    }
   },
   "outputs": [],
   "source": [
    "import efinance as ef\n",
    "import pandas as pd\n",
    "import numpy as np\n",
    "import datetime\n",
    "import tkinter as tk\n",
    "from tkinter import simpledialog\n",
    "import matplotlib\n",
    "import matplotlib.pyplot as plt\n",
    "import seaborn as sns\n",
    "import datetime\n",
    "\n",
    "# 设置Seaborn风格\n",
    "sns.set(style=\"whitegrid\")"
   ]
  },
  {
   "cell_type": "code",
   "execution_count": 3,
   "id": "d0af0921936c0893",
   "metadata": {
    "ExecuteTime": {
     "end_time": "2025-02-23T06:55:30.124375Z",
     "start_time": "2025-02-23T06:55:30.118097Z"
    }
   },
   "outputs": [],
   "source": [
    "def get_stock_data(stock_code, start_date, end_date):\n",
    "    # 获取股票日线数据\n",
    "    #df = pro.daily(ts_code=stock_code, start_date=start_date, end_date=end_date)\n",
    "    df = ef.stock.get_quote_history(stock_code, start_date, end_date)\n",
    "    #df = df.sort_values('日期', ascending=True)\n",
    "    #df['日期'] = pd.to_datetime(df['日期'])\n",
    "    #df.set_index('日期', inplace=True)\n",
    "    return df"
   ]
  },
  {
   "cell_type": "code",
   "execution_count": 4,
   "id": "89cc133f399b54ae",
   "metadata": {
    "ExecuteTime": {
     "end_time": "2025-02-23T06:55:31.160443Z",
     "start_time": "2025-02-23T06:55:31.144200Z"
    }
   },
   "outputs": [],
   "source": [
    "def calculate_technical_indicators(df):\n",
    "    # 计算MACD\n",
    "    df['EMA12'] = df['收盘'].ewm(span=12, adjust=False).mean()\n",
    "    df['EMA26'] = df['收盘'].ewm(span=26, adjust=False).mean()\n",
    "    df['MACD'] = df['EMA12'] - df['EMA26']\n",
    "    df['MACD_signal'] = df['MACD'].ewm(span=9, adjust=False).mean()\n",
    "    df['MACD_hist'] = df['MACD'] - df['MACD_signal']\n",
    "\n",
    "    # 计算布林带\n",
    "    df['MA20'] = df['收盘'].rolling(window=20).mean()\n",
    "    df['MA5'] = df['收盘'].rolling(window=5).mean()\n",
    "    df['MA10'] = df['收盘'].rolling(window=10).mean()\n",
    "    df['STD20'] = df['收盘'].rolling(window=20).std()\n",
    "    df['Upper_Band'] = df['MA20'] + 2 * df['STD20']\n",
    "    df['Lower_Band'] = df['MA20'] - 2 * df['STD20']\n",
    "\n",
    "    # 计算RSI\n",
    "    delta = df['收盘'].diff()\n",
    "    gain = (delta.where(delta > 0, 0)).rolling(window=14).mean()\n",
    "    loss = (-delta.where(delta < 0, 0)).rolling(window=14).mean()\n",
    "    df['RSI'] = 100 - (100 / (1 + gain / loss))\n",
    "\n",
    "    # 计算KDJ\n",
    "    low_min = df['最低'].rolling(window=9).min()\n",
    "    high_max = df['最高'].rolling(window=9).max()\n",
    "    df['K'] = 100 * (df['收盘'] - low_min) / (high_max - low_min)\n",
    "    df['D'] = df['K'].rolling(window=3).mean()\n",
    "    df['J'] = 3 * df['K'] - 2 * df['D']\n",
    "\n",
    "    # 计算5日均量和10日均量\n",
    "    df['MA5_Volume'] = df['成交量'].rolling(window=5).mean()\n",
    "    df['MA10_Volume'] = df['成交量'].rolling(window=10).mean()\n",
    "    df['Volume_Ratio'] = df['成交量'] / df['MA10_Volume']\n",
    "\n",
    "    return df"
   ]
  },
  {
   "cell_type": "code",
   "execution_count": 5,
   "id": "d33e742cc3e8eee9",
   "metadata": {
    "ExecuteTime": {
     "end_time": "2025-02-23T06:55:31.955468Z",
     "start_time": "2025-02-23T06:55:31.946208Z"
    }
   },
   "outputs": [],
   "source": [
    "def market_analysis(df):\n",
    "    latest_data = df.iloc[-1]\n",
    "\n",
    "    # 判断当前趋势\n",
    "    if latest_data['MACD'] > latest_data['MACD_signal']:\n",
    "        trend = \"上升\"\n",
    "    elif latest_data['MACD'] < latest_data['MACD_signal']:\n",
    "        trend = \"下降\"\n",
    "    else:\n",
    "        trend = \"盘整\"\n",
    "\n",
    "    # 判断市场强度\n",
    "    if latest_data['RSI'] > 70:\n",
    "        market_strength = \"强\"\n",
    "    elif latest_data['RSI'] < 30:\n",
    "        market_strength = \"弱\"\n",
    "    else:\n",
    "        market_strength = \"中\"\n",
    "\n",
    "    # 判断爆发力\n",
    "    if latest_data['Volume_Ratio'] > 1.5:\n",
    "        explosive_power = \"强\"\n",
    "    elif latest_data['Volume_Ratio'] > 1.0:\n",
    "        explosive_power = \"中\"\n",
    "    else:\n",
    "        explosive_power = \"弱\"\n",
    "\n",
    "    # 当日建议最大杠杆\n",
    "    if market_strength == \"强\" and explosive_power == \"强\":\n",
    "        max_leverage = 3.0\n",
    "    elif market_strength == \"中\" and explosive_power == \"中\":\n",
    "        max_leverage = 2.0\n",
    "    else:\n",
    "        max_leverage = 1.0\n",
    "\n",
    "    return {\n",
    "        \"当前趋势\": trend,\n",
    "        \"市场强度\": market_strength,\n",
    "        \"爆发力\": explosive_power,\n",
    "        \"当日建议最大杠杆\": max_leverage\n",
    "    }"
   ]
  },
  {
   "cell_type": "code",
   "execution_count": 6,
   "id": "786a1060a31c6684",
   "metadata": {
    "ExecuteTime": {
     "end_time": "2025-02-23T06:55:32.693108Z",
     "start_time": "2025-02-23T06:55:32.683572Z"
    }
   },
   "outputs": [],
   "source": [
    "def trade_execution_plan(df, market_status):\n",
    "    latest_data = df.iloc[-1]\n",
    "\n",
    "    # 交易方向\n",
    "    if market_status[\"当前趋势\"] == \"上升\":\n",
    "        direction = \"做多\"\n",
    "    elif market_status[\"当前趋势\"] == \"下降\":\n",
    "        direction = \"做空\"\n",
    "    else:\n",
    "        direction = \"观望\"\n",
    "\n",
    "    # 建仓价格\n",
    "    entry_price = latest_data['收盘']\n",
    "\n",
    "    # 建仓仓位\n",
    "    if market_status[\"市场强度\"] == \"强\":\n",
    "        position = 50.0  # 50%资金\n",
    "    elif market_status[\"市场强度\"] == \"中\":\n",
    "        position = 30.0  # 30%资金\n",
    "    else:\n",
    "        position = 10.0  # 10%资金\n",
    "\n",
    "    # 杠杆倍数\n",
    "    leverage = market_status[\"当日建议最大杠杆\"]\n",
    "\n",
    "    # 首次止损\n",
    "    if direction == \"做多\":\n",
    "        stop_loss = entry_price * 0.95  # 5%止损\n",
    "    else:\n",
    "        stop_loss = entry_price * 1.05  # 5%止损\n",
    "\n",
    "    # 首次止盈\n",
    "    if direction == \"做多\":\n",
    "        take_profit = entry_price * 1.10  # 10%止盈\n",
    "    else:\n",
    "        take_profit = entry_price * 0.90  # 10%止盈\n",
    "\n",
    "    return {\n",
    "        \"交易方向\": direction,\n",
    "        \"建仓价格\": round(entry_price, 2),\n",
    "        \"建仓仓位\": position,\n",
    "        \"杠杆倍数\": leverage,\n",
    "        \"首次止损\": round(stop_loss, 2),\n",
    "        \"首次止盈\": round(take_profit, 2)\n",
    "    }"
   ]
  },
  {
   "cell_type": "code",
   "execution_count": 7,
   "id": "9aeb33bae3fd006a",
   "metadata": {
    "ExecuteTime": {
     "end_time": "2025-02-23T06:55:33.492352Z",
     "start_time": "2025-02-23T06:55:33.482767Z"
    }
   },
   "outputs": [],
   "source": [
    "def batch_entry_plan(df, trade_plan):\n",
    "    latest_data = df.iloc[-1]\n",
    "\n",
    "    # 第一批 (开盘时机)\n",
    "    first_entry_price = latest_data['收盘']\n",
    "    first_position = trade_plan[\"建仓仓位\"] * 0.5  # 50%仓位\n",
    "    first_leverage = trade_plan[\"杠杆倍数\"]\n",
    "\n",
    "    # 第二批 (盘中时机)\n",
    "    second_entry_price = first_entry_price * 0.98 if trade_plan[\"交易方向\"] == \"做多\" else first_entry_price * 1.02\n",
    "    second_position = trade_plan[\"建仓仓位\"] * 0.5  # 50%仓位\n",
    "    second_leverage = trade_plan[\"杠杆倍数\"]\n",
    "\n",
    "    return {\n",
    "        \"第一批 (开盘时机)\": {\n",
    "            \"触发价格\": round(first_entry_price, 2),\n",
    "            \"仓位比例\": round(first_position, 2),\n",
    "            \"杠杆倍数\": first_leverage\n",
    "        },\n",
    "        \"第二批 (盘中时机)\": {\n",
    "            \"触发价格\": round(second_entry_price, 2),\n",
    "            \"仓位比例\": round(second_position, 2),\n",
    "            \"杠杆倍数\": second_leverage\n",
    "        }\n",
    "    }"
   ]
  },
  {
   "cell_type": "code",
   "execution_count": 8,
   "id": "20957ec631107c8c",
   "metadata": {
    "ExecuteTime": {
     "end_time": "2025-02-23T06:55:34.201520Z",
     "start_time": "2025-02-23T06:55:34.192745Z"
    }
   },
   "outputs": [],
   "source": [
    "def profit_taking_plan(trade_plan):\n",
    "    # 盈利加仓点位1\n",
    "    take_profit_1 = trade_plan[\"首次止盈\"]\n",
    "    add_position_1 = trade_plan[\"建仓仓位\"] * 0.2  # 20%加仓\n",
    "    new_stop_loss_1 = take_profit_1 * 0.95 if trade_plan[\"交易方向\"] == \"做多\" else take_profit_1 * 1.05\n",
    "\n",
    "    # 盈利加仓点位2\n",
    "    take_profit_2 = take_profit_1 * 1.05 if trade_plan[\"交易方向\"] == \"做多\" else take_profit_1 * 0.95\n",
    "    add_position_2 = trade_plan[\"建仓仓位\"] * 0.1  # 10%加仓\n",
    "    new_stop_loss_2 = take_profit_2 * 0.95 if trade_plan[\"交易方向\"] == \"做多\" else take_profit_2 * 1.05\n",
    "\n",
    "    return {\n",
    "        \"盈利加仓点位1\": {\n",
    "            \"触发条件\": round((take_profit_1 - trade_plan[\"建仓价格\"]) / trade_plan[\"建仓价格\"] * 100, 2),\n",
    "            \"加仓比例\": round(add_position_1, 2),\n",
    "            \"新止损位\": round(new_stop_loss_1, 2)\n",
    "        },\n",
    "        \"盈利加仓点位2\": {\n",
    "            \"触发条件\": round((take_profit_2 - trade_plan[\"建仓价格\"]) / trade_plan[\"建仓价格\"] * 100, 2),\n",
    "            \"加仓比例\": round(add_position_2, 2),\n",
    "            \"新止损位\": round(new_stop_loss_2, 2)\n",
    "        }\n",
    "    }"
   ]
  },
  {
   "cell_type": "code",
   "execution_count": 9,
   "id": "72bac61b230e5127",
   "metadata": {
    "ExecuteTime": {
     "end_time": "2025-02-23T06:55:34.920823Z",
     "start_time": "2025-02-23T06:55:34.914356Z"
    }
   },
   "outputs": [],
   "source": [
    "def risk_management_plan():\n",
    "    return {\n",
    "        \"单笔交易止损比例\": 5.0,  # 5%止损\n",
    "        \"日内最大亏损限制\": 10.0,  # 10%日内最大亏损\n",
    "        \"强制平仓条件\": \"日内亏损达到10%或单笔亏损达到5%\",\n",
    "        \"当日最大交易次数\": 5  # 当日最多交易5次\n",
    "    }"
   ]
  },
  {
   "cell_type": "code",
   "execution_count": 10,
   "id": "a1bc5e3b6d01b55c",
   "metadata": {
    "ExecuteTime": {
     "end_time": "2025-02-23T06:55:35.770232Z",
     "start_time": "2025-02-23T06:55:35.763529Z"
    }
   },
   "outputs": [],
   "source": [
    "def get_stock_input():\n",
    "    # 创建一个隐藏的主窗口\n",
    "    root = tk.Tk()\n",
    "    root.withdraw()\n",
    "\n",
    "    # 弹出输入对话框\n",
    "    user_input = simpledialog.askstring(\n",
    "        title=\"股票代码输入\",\n",
    "        prompt=\"请输入股票代码:\",\n",
    "        initialvalue='000001'  # 默认值\n",
    "    )\n",
    "\n",
    "    # 处理用户点击取消或关闭窗口的情况\n",
    "    stock_code = user_input if user_input else '000001'\n",
    "\n",
    "    # 后续代码...\n",
    "    print(\"当前股票代码:\", stock_code)\n",
    "    return(stock_code)"
   ]
  },
  {
   "cell_type": "code",
   "execution_count": 11,
   "id": "45979ab6eccd2c10",
   "metadata": {
    "ExecuteTime": {
     "end_time": "2025-02-23T06:55:36.574370Z",
     "start_time": "2025-02-23T06:55:36.563822Z"
    }
   },
   "outputs": [],
   "source": [
    "def get_back_test_day_input():\n",
    "    # 创建一个隐藏的主窗口\n",
    "    root = tk.Tk()\n",
    "    root.withdraw()\n",
    "\n",
    "    # 弹出输入对话框\n",
    "    user_input = simpledialog.askstring(\n",
    "        title=\"回测天数输入\",\n",
    "        prompt=\"请输入回测天数:(0=实时策略)\",\n",
    "        initialvalue='0'  # 默认值\n",
    "    )\n",
    "\n",
    "    # 处理用户点击取消或关闭窗口的情况\n",
    "    stock_day = user_input if user_input else '0'\n",
    "\n",
    "    # 获取当前日期\n",
    "    end_date = datetime.datetime.now()\n",
    "\n",
    "    # 计算n天前的日期\n",
    "    end_date = end_date - datetime.timedelta(days=int(stock_day))\n",
    "\n",
    "    # 将日期格式化为字符串（假设API需要字符串格式的日期）\n",
    "    #start_date_str = start_date.strftime('%Y-%m-%d')\n",
    "    end_date_str = end_date.strftime('%Y%m%d')\n",
    "\n",
    "    print(\"当前回测日期:\", end_date_str)\n",
    "    return (end_date_str)"
   ]
  },
  {
   "cell_type": "code",
   "execution_count": 12,
   "id": "42b755280226e48d",
   "metadata": {
    "ExecuteTime": {
     "end_time": "2025-02-23T06:55:37.307376Z",
     "start_time": "2025-02-23T06:55:37.285673Z"
    }
   },
   "outputs": [],
   "source": [
    "def plot_market_analysis(df,trade_plan):\n",
    "    #latest_data = df.iloc[-1]\n",
    "    latest_data = df\n",
    "    latest_data = latest_data[latest_data['日期'] >= '2024-01-01']\n",
    "    trading_plan_output = trade_plan\n",
    "    matplotlib.use('TkAgg')  # 使用Tk后端生成独立窗口（确保已安装tkinter）\n",
    "    matplotlib.font_manager.fontManager.addfont('C:/Windows/Fonts/msyh.ttc')  # 微软雅黑路径\n",
    "    plt.rcParams['font.family'] = 'Microsoft YaHei'\n",
    "    # 绘制价格和技术指标\n",
    "    plt.figure(figsize=(14, 12))\n",
    "\n",
    "    # 子图1: 价格和移动平均线\n",
    "    plt.subplot(3, 1, 1)\n",
    "    plt.plot(latest_data['日期'], latest_data['收盘'], label='收盘价', color='blue')\n",
    "    plt.plot(latest_data['日期'], latest_data['MA5'], label='5日均线', color='orange')\n",
    "    plt.plot(latest_data['日期'], latest_data['MA10'], label='10日均线', color='green')\n",
    "\n",
    "    # 标注建仓价格\n",
    "    entry_price = trading_plan_output[\"建仓价格\"]\n",
    "    plt.axhline(entry_price, color='red', linestyle='--', label='建仓价格')\n",
    "    plt.text(latest_data['日期'].iloc[-1], entry_price, f'建仓价格: {entry_price}', color='red', verticalalignment='bottom')\n",
    "\n",
    "    # 标注止损和止盈\n",
    "    stop_loss = trading_plan_output[\"首次止损\"]\n",
    "    take_profit = trading_plan_output[\"首次止盈\"]\n",
    "    plt.axhline(stop_loss, color='gray', linestyle='--', label='止损')\n",
    "    plt.axhline(take_profit, color='green', linestyle='--', label='止盈')\n",
    "    plt.text(latest_data['日期'].iloc[-1], stop_loss, f'止损: {stop_loss}', color='gray', verticalalignment='bottom')\n",
    "    plt.text(latest_data['日期'].iloc[-1], take_profit, f'止盈: {take_profit}', color='green', verticalalignment='bottom')\n",
    "\n",
    "    plt.title(f'{stock_code} {end_date_str}价格与移动平均线')\n",
    "    plt.legend()\n",
    "    plt.grid(True)\n",
    "    plt.xticks([])\n",
    "\n",
    "    # 子图2: MACD\n",
    "    plt.subplot(3, 1, 2)\n",
    "    plt.plot(latest_data['日期'], latest_data['MACD'], label='MACD', color='blue')\n",
    "    plt.plot(latest_data['日期'], latest_data['MACD_signal'], label='MACD信号线', color='red')\n",
    "    plt.bar(latest_data['日期'], latest_data['MACD_hist'], label='MACD柱状图', color='gray')\n",
    "\n",
    "\n",
    "    # 标注MACD交易信号\n",
    "    action = trading_plan_output[\"交易方向\"]+\"/\"+market_status[\"当前趋势\"]+\"/市场\"+market_status[\"市场强度\"]+\"/爆发\"+market_status[\"爆发力\"]\n",
    "    if action == \"做多/上升/市场中/爆发强\":\n",
    "        plt.text(latest_data['日期'].iloc[-1], latest_data['MACD'].iloc[-1], action, color='green', verticalalignment='bottom')\n",
    "    elif action in {\"做空/下降/市场中/爆发强\", \"做空/下降/市场中/爆发中\"}:\n",
    "        plt.text(latest_data['日期'].iloc[-1], latest_data['MACD'].iloc[-1], action, color='red', verticalalignment='bottom')\n",
    "    else:\n",
    "        plt.text(latest_data['日期'].iloc[-1], latest_data['MACD'].iloc[-1], action, color='grey', verticalalignment='bottom')\n",
    "    #if trading_plan_output[\"交易方向\"] == \"做多\":\n",
    "    #    plt.text(latest_data['日期'].iloc[-1], latest_data['MACD'].iloc[-1], '做多信号', color='green', verticalalignment='bottom')\n",
    "    #elif trading_plan_output[\"交易方向\"] == \"做空\":\n",
    "    #    plt.text(latest_data['日期'].iloc[-1], latest_data['MACD'].iloc[-1], '做空信号', color='red', verticalalignment='bottom')\n",
    "\n",
    "    plt.title('MACD指标')\n",
    "    plt.legend()\n",
    "    plt.grid(True)\n",
    "    plt.xticks([])\n",
    "\n",
    "    # 子图3: RSI\n",
    "    plt.subplot(3, 1, 3)\n",
    "    plt.plot(latest_data['日期'], latest_data['RSI'], label='RSI', color='purple')\n",
    "    plt.axhline(70, color='red', linestyle='--', label='超买线 (70)')\n",
    "    plt.axhline(30, color='green', linestyle='--', label='超卖线 (30)')\n",
    "\n",
    "    # 标注RSI超买超卖信号\n",
    "    if latest_data['RSI'].iloc[-1] > 70:\n",
    "        RSIdata= '超买'+str(round(latest_data['RSI'].iloc[-1],0))\n",
    "        plt.text(latest_data['日期'].iloc[-1], latest_data['RSI'].iloc[-1], RSIdata, color='red', verticalalignment='bottom')\n",
    "    elif latest_data['RSI'].iloc[-1] < 30:\n",
    "        RSIdata= '超卖'+str(round(latest_data['RSI'].iloc[-1],0))\n",
    "        plt.text(latest_data['日期'].iloc[-1], latest_data['RSI'].iloc[-1], RSIdata, color='green', verticalalignment='bottom')\n",
    "\n",
    "    plt.title('RSI指标')\n",
    "    plt.legend()\n",
    "    plt.grid(True)\n",
    "\n",
    "    plt.tight_layout()\n",
    "    plt.xticks([])\n",
    "    plt.show()"
   ]
  },
  {
   "cell_type": "code",
   "execution_count": 13,
   "id": "8e3d5cd3f9d50916",
   "metadata": {
    "ExecuteTime": {
     "end_time": "2025-02-23T06:55:55.822973Z",
     "start_time": "2025-02-23T06:55:38.035565Z"
    }
   },
   "outputs": [
    {
     "name": "stdout",
     "output_type": "stream",
     "text": [
      "当前股票代码: 000001\n",
      "当前回测日期: 20250223\n",
      "市场状态研判: {'当前趋势': '上升', '市场强度': '中', '爆发力': '弱', '当日建议最大杠杆': 1.0}\n",
      "交易执行方案: {'交易方向': '做多', '建仓价格': np.float64(11.64), '建仓仓位': 30.0, '杠杆倍数': 1.0, '首次止损': np.float64(11.06), '首次止盈': np.float64(12.8)}\n",
      "分批建仓计划: {'第一批 (开盘时机)': {'触发价格': np.float64(11.64), '仓位比例': 15.0, '杠杆倍数': 1.0}, '第二批 (盘中时机)': {'触发价格': np.float64(11.41), '仓位比例': 15.0, '杠杆倍数': 1.0}}\n",
      "止盈加仓计划: {'盈利加仓点位1': {'触发条件': np.float64(9.97), '加仓比例': 6.0, '新止损位': np.float64(12.16)}, '盈利加仓点位2': {'触发条件': np.float64(15.46), '加仓比例': 3.0, '新止损位': np.float64(12.77)}}\n",
      "风控方案: {'单笔交易止损比例': 5.0, '日内最大亏损限制': 10.0, '强制平仓条件': '日内亏损达到10%或单笔亏损达到5%', '当日最大交易次数': 5}\n"
     ]
    }
   ],
   "source": [
    "# 示例：获取某股票的最新数据\n",
    "stock_code = get_stock_input()  # 替换为具体股票代码\n",
    "end_date_str = get_back_test_day_input()\n",
    "df = get_stock_data(stock_code, '19000101', end_date_str)\n",
    "df = pd.DataFrame(df)\n",
    "df = calculate_technical_indicators(df)\n",
    "\n",
    "market_status = market_analysis(df)\n",
    "print(\"市场状态研判:\", market_status)\n",
    "\n",
    "trade_plan = trade_execution_plan(df, market_status)\n",
    "print(\"交易执行方案:\", trade_plan)\n",
    "\n",
    "batch_plan = batch_entry_plan(df, trade_plan)\n",
    "print(\"分批建仓计划:\", batch_plan)\n",
    "\n",
    "profit_plan = profit_taking_plan(trade_plan)\n",
    "print(\"止盈加仓计划:\", profit_plan)\n",
    "\n",
    "risk_plan = risk_management_plan()\n",
    "print(\"风控方案:\", risk_plan)\n",
    "\n",
    "plot_market_analysis(df,trade_plan)"
   ]
  },
  {
   "cell_type": "code",
   "execution_count": null,
   "id": "22655ec6b2d86951",
   "metadata": {},
   "outputs": [],
   "source": []
  }
 ],
 "metadata": {
  "kernelspec": {
   "display_name": "Python [conda env:base] *",
   "language": "python",
   "name": "conda-base-py"
  },
  "language_info": {
   "codemirror_mode": {
    "name": "ipython",
    "version": 3
   },
   "file_extension": ".py",
   "mimetype": "text/x-python",
   "name": "python",
   "nbconvert_exporter": "python",
   "pygments_lexer": "ipython3",
   "version": "3.12.7"
  }
 },
 "nbformat": 4,
 "nbformat_minor": 5
}
