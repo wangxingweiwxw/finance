{
 "cells": [
  {
   "cell_type": "code",
   "execution_count": 1,
   "id": "51eda6d8e5b94453",
   "metadata": {
    "ExecuteTime": {
     "end_time": "2025-02-18T03:21:40.996161Z",
     "start_time": "2025-02-18T03:21:40.984793Z"
    }
   },
   "outputs": [],
   "source": [
    "import efinance as ef"
   ]
  },
  {
   "cell_type": "code",
   "execution_count": 2,
   "id": "cc4e0f5ced930b10",
   "metadata": {
    "ExecuteTime": {
     "end_time": "2025-02-18T03:21:41.021725Z",
     "start_time": "2025-02-18T03:21:41.015410Z"
    }
   },
   "outputs": [],
   "source": [
    "import pandas as pd\n",
    "import numpy as np\n",
    "import talib  # 用于计算技术指标\n",
    "import tkinter as tk\n",
    "from tkinter import simpledialog\n",
    "import matplotlib\n",
    "import matplotlib.pyplot as plt\n",
    "import seaborn as sns\n",
    "\n",
    "# 设置Seaborn风格\n",
    "sns.set(style=\"whitegrid\")"
   ]
  },
  {
   "cell_type": "code",
   "execution_count": 3,
   "id": "2b248405f2288c1f",
   "metadata": {
    "ExecuteTime": {
     "end_time": "2025-02-18T03:21:41.100158Z",
     "start_time": "2025-02-18T03:21:41.092997Z"
    }
   },
   "outputs": [],
   "source": [
    "matplotlib.use('TkAgg')  # 使用Tk后端生成独立窗口（确保已安装tkinter）\n",
    "matplotlib.font_manager.fontManager.addfont('C:/Windows/Fonts/msyh.ttc')  # 微软雅黑路径\n",
    "plt.rcParams['font.family'] = 'Microsoft YaHei'"
   ]
  },
  {
   "cell_type": "code",
   "execution_count": 4,
   "id": "69501c5fb375c9b6",
   "metadata": {
    "ExecuteTime": {
     "end_time": "2025-02-18T03:21:44.061923Z",
     "start_time": "2025-02-18T03:21:41.170854Z"
    }
   },
   "outputs": [
    {
     "name": "stdout",
     "output_type": "stream",
     "text": [
      "当前股票代码: ZH\n"
     ]
    }
   ],
   "source": [
    "\n",
    "# 创建一个隐藏的主窗口\n",
    "root = tk.Tk()\n",
    "root.withdraw()\n",
    "\n",
    "# 弹出输入对话框\n",
    "user_input = simpledialog.askstring(\n",
    "    title=\"股票代码输入\",\n",
    "    prompt=\"请输入股票代码:\",\n",
    "    initialvalue='000001'  # 默认值\n",
    ")\n",
    "\n",
    "# 处理用户点击取消或关闭窗口的情况\n",
    "stock_code = user_input if user_input else '000001'\n",
    "\n",
    "# 后续代码...\n",
    "print(\"当前股票代码:\", stock_code)"
   ]
  },
  {
   "cell_type": "code",
   "execution_count": 5,
   "id": "b299a091fee215a",
   "metadata": {
    "ExecuteTime": {
     "end_time": "2025-02-18T03:21:46.530085Z",
     "start_time": "2025-02-18T03:21:44.187679Z"
    }
   },
   "outputs": [
    {
     "name": "stdout",
     "output_type": "stream",
     "text": [
      "当前回测天数: 0\n"
     ]
    }
   ],
   "source": [
    "import datetime\n",
    "\n",
    "# 创建一个隐藏的主窗口\n",
    "root = tk.Tk()\n",
    "root.withdraw()\n",
    "\n",
    "# 弹出输入对话框\n",
    "user_input = simpledialog.askstring(\n",
    "    title=\"回测天数输入\",\n",
    "    prompt=\"请输入回测天数:(0=实时策略)\",\n",
    "    initialvalue='0'  # 默认值\n",
    ")\n",
    "\n",
    "# 处理用户点击取消或关闭窗口的情况\n",
    "stock_day = user_input if user_input else '0'\n",
    "\n",
    "# 获取当前日期\n",
    "end_date = datetime.datetime.now()\n",
    "\n",
    "# 计算n天前的日期\n",
    "end_date = end_date - datetime.timedelta(days=int(stock_day))\n",
    "\n",
    "# 将日期格式化为字符串（假设API需要字符串格式的日期）\n",
    "#start_date_str = start_date.strftime('%Y-%m-%d')\n",
    "end_date_str = end_date.strftime('%Y%m%d')\n",
    "\n",
    "print(\"当前回测天数:\", stock_day)"
   ]
  },
  {
   "cell_type": "code",
   "execution_count": 6,
   "id": "68ece41ec036eb60",
   "metadata": {
    "ExecuteTime": {
     "end_time": "2025-02-18T03:21:46.554720Z",
     "start_time": "2025-02-18T03:21:46.544081Z"
    }
   },
   "outputs": [],
   "source": [
    "def market_analysis(data):\n",
    "    # 判断当前趋势\n",
    "    if data['MACD'].iloc[-1] > data['MACD_signal'].iloc[-1]:\n",
    "        trend = \"上升\"\n",
    "    elif data['MACD'].iloc[-1] < data['MACD_signal'].iloc[-1]:\n",
    "        trend = \"下降\"\n",
    "    else:\n",
    "        trend = \"盘整\"\n",
    "\n",
    "    # 判断市场强度\n",
    "    if data['RSI'].iloc[-1] > 70:\n",
    "        strength = \"强\"\n",
    "    elif data['RSI'].iloc[-1] < 30:\n",
    "        strength = \"弱\"\n",
    "    else:\n",
    "        strength = \"中\"\n",
    "\n",
    "    # 判断爆发力\n",
    "    if data['Volume_Ratio'].iloc[-1] > 1.5:\n",
    "        momentum = \"强\"\n",
    "    elif data['Volume_Ratio'].iloc[-1] < 0.5:\n",
    "        momentum = \"弱\"\n",
    "    else:\n",
    "        momentum = \"中\"\n",
    "\n",
    "    # 建议最大杠杆\n",
    "    if strength == \"强\" and momentum == \"强\":\n",
    "        leverage = 3.0\n",
    "    elif strength == \"中\" and momentum == \"中\":\n",
    "        leverage = 2.0\n",
    "    else:\n",
    "        leverage = 1.0\n",
    "\n",
    "    return {\n",
    "        \"当前趋势\": trend,\n",
    "        \"市场强度\": strength,\n",
    "        \"爆发力\": momentum,\n",
    "        \"当日建议最大杠杆\": leverage\n",
    "    }\n"
   ]
  },
  {
   "cell_type": "code",
   "execution_count": 7,
   "id": "1c49262aa1d6f3dc",
   "metadata": {
    "ExecuteTime": {
     "end_time": "2025-02-18T03:21:46.629392Z",
     "start_time": "2025-02-18T03:21:46.621083Z"
    }
   },
   "outputs": [],
   "source": [
    "def trading_plan(data):\n",
    "    close_price = data['收盘'].iloc[-1]\n",
    "    macd_hist = data['MACD_hist'].iloc[-1]\n",
    "    macd_signal = data['MACD_signal'].iloc[-1]\n",
    "    rsi = data['RSI'].iloc[-1]\n",
    "\n",
    "    # 判断交易方向\n",
    "    if (macd_hist > 0 and rsi < 70):\n",
    "        direction = \"做多\"\n",
    "    elif macd_hist < 0 and rsi > 30:\n",
    "        direction = \"做空\"\n",
    "    else:\n",
    "        direction = \"观望\"\n",
    "\n",
    "    # 建仓价格\n",
    "    entry_price = close_price\n",
    "\n",
    "    # 建仓仓位\n",
    "    if direction == \"做多\":\n",
    "        position = 0.5  # 50%资金比例\n",
    "    elif direction == \"做空\":\n",
    "        position = 0.3  # 30%资金比例\n",
    "    else:\n",
    "        position = 0.0\n",
    "\n",
    "    # 杠杆倍数\n",
    "    leverage = market_status[\"当日建议最大杠杆\"]\n",
    "\n",
    "    # 止损和止盈\n",
    "    stop_loss = entry_price * 0.95  # 5%止损\n",
    "    take_profit = entry_price * 1.10  # 10%止盈\n",
    "\n",
    "    return {\n",
    "        \"交易方向\": direction,\n",
    "        \"建仓价格\": round(entry_price, 2),\n",
    "        \"建仓仓位\": round(position * 100, 2),\n",
    "        \"杠杆倍数\": leverage,\n",
    "        \"首次止损\": round(stop_loss, 2),\n",
    "        \"首次止盈\": round(take_profit, 2)\n",
    "    }\n"
   ]
  },
  {
   "cell_type": "code",
   "execution_count": 8,
   "id": "e705f98607f73439",
   "metadata": {
    "ExecuteTime": {
     "end_time": "2025-02-18T03:21:46.707070Z",
     "start_time": "2025-02-18T03:21:46.699156Z"
    }
   },
   "outputs": [],
   "source": [
    "def batch_entry_plan(data):\n",
    "    close_price = data['收盘'].iloc[-1]\n",
    "\n",
    "    # 第一批建仓\n",
    "    first_entry_price = close_price\n",
    "    first_position = 0.3  # 30%资金比例\n",
    "    first_leverage = market_status[\"当日建议最大杠杆\"]\n",
    "\n",
    "    # 第二批建仓\n",
    "    second_entry_price = close_price * 0.98  # 2%回调\n",
    "    second_position = 0.2  # 20%资金比例\n",
    "    second_leverage = market_status[\"当日建议最大杠杆\"]\n",
    "\n",
    "    return {\n",
    "        \"第一批 (开盘时机)\": {\n",
    "            \"触发价格\": round(first_entry_price, 2),\n",
    "            \"仓位比例\": round(first_position * 100, 2),\n",
    "            \"杠杆倍数\": first_leverage\n",
    "        },\n",
    "        \"第二批 (盘中时机)\": {\n",
    "            \"触发价格\": round(second_entry_price, 2),\n",
    "            \"仓位比例\": round(second_position * 100, 2),\n",
    "            \"杠杆倍数\": second_leverage\n",
    "        }\n",
    "    }\n",
    "\n"
   ]
  },
  {
   "cell_type": "code",
   "execution_count": 9,
   "id": "931c8502c3e199ac",
   "metadata": {
    "ExecuteTime": {
     "end_time": "2025-02-18T03:21:46.786671Z",
     "start_time": "2025-02-18T03:21:46.777872Z"
    }
   },
   "outputs": [],
   "source": [
    "def profit_taking_plan(data):\n",
    "    close_price = data['收盘'].iloc[-1]\n",
    "\n",
    "    # 盈利加仓点位1\n",
    "    profit_level_1 = close_price * 1.05  # 5%涨幅\n",
    "    add_position_1 = 0.2  # 20%加仓比例\n",
    "    new_stop_loss_1 = close_price * 0.97  # 3%新止损\n",
    "\n",
    "    # 盈利加仓点位2\n",
    "    profit_level_2 = close_price * 1.10  # 10%涨幅\n",
    "    add_position_2 = 0.1  # 10%加仓比例\n",
    "    new_stop_loss_2 = close_price * 0.95  # 5%新止损\n",
    "\n",
    "    return {\n",
    "        \"盈利加仓点位1\": {\n",
    "            \"触发条件\": round((profit_level_1 - close_price) / close_price * 100, 2),\n",
    "            \"加仓比例\": round(add_position_1 * 100, 2),\n",
    "            \"新止损位\": round(new_stop_loss_1, 2)\n",
    "        },\n",
    "        \"盈利加仓点位2\": {\n",
    "            \"触发条件\": round((profit_level_2 - close_price) / close_price * 100, 2),\n",
    "            \"加仓比例\": round(add_position_2 * 100, 2),\n",
    "            \"新止损位\": round(new_stop_loss_2, 2)\n",
    "        }\n",
    "    }\n",
    "\n"
   ]
  },
  {
   "cell_type": "code",
   "execution_count": 10,
   "id": "8e5fec67534d003c",
   "metadata": {
    "ExecuteTime": {
     "end_time": "2025-02-18T03:21:46.863463Z",
     "start_time": "2025-02-18T03:21:46.856714Z"
    }
   },
   "outputs": [],
   "source": [
    "def risk_management_plan():\n",
    "    return {\n",
    "        \"单笔交易止损比例\": 5.00,  # 5%止损\n",
    "        \"日内最大亏损限制\": 10.00,  # 10%日内最大亏损\n",
    "        \"强制平仓条件\": \"日内亏损达到10%或单笔亏损达到5%\",\n",
    "        \"当日最大交易次数\": 5  # 当日最多交易5次\n",
    "    }\n",
    "\n"
   ]
  },
  {
   "cell_type": "code",
   "execution_count": 11,
   "id": "21371b886f12b741",
   "metadata": {
    "ExecuteTime": {
     "end_time": "2025-02-18T03:21:47.047469Z",
     "start_time": "2025-02-18T03:21:46.935412Z"
    }
   },
   "outputs": [
    {
     "name": "stdout",
     "output_type": "stream",
     "text": [
      "市场数据日期： 20250218\n",
      "市场状态研判: {'当前趋势': '上升', '市场强度': '强', '爆发力': '强', '当日建议最大杠杆': 3.0}\n",
      "交易执行方案: {'交易方向': '观望', '建仓价格': 5.32, '建仓仓位': 0.0, '杠杆倍数': 3.0, '首次止损': 5.05, '首次止盈': 5.85}\n",
      "分批建仓计划: {'第一批 (开盘时机)': {'触发价格': 5.32, '仓位比例': 30.0, '杠杆倍数': 3.0}, '第二批 (盘中时机)': {'触发价格': 5.21, '仓位比例': 20.0, '杠杆倍数': 3.0}}\n",
      "止盈加仓计划: {'盈利加仓点位1': {'触发条件': 5.0, '加仓比例': 20.0, '新止损位': 5.16}, '盈利加仓点位2': {'触发条件': 10.0, '加仓比例': 10.0, '新止损位': 5.05}}\n"
     ]
    }
   ],
   "source": [
    "# 替换为具体股票代码\n",
    "#stock_code = '000001'\n",
    "\n",
    "# 获取最新市场数据\n",
    "latest_data = ef.stock.get_quote_history(stock_code, '19000101', end_date_str)\n",
    "latest_data = pd.DataFrame(latest_data)\n",
    "\n",
    "# 计算技术指标\n",
    "latest_data['MACD'], latest_data['MACD_signal'], latest_data['MACD_hist'] = talib.MACD(latest_data['收盘'], fastperiod=12, slowperiod=26, signalperiod=9)\n",
    "latest_data['RSI'] = talib.RSI(latest_data['收盘'], timeperiod=14)\n",
    "latest_data['K'], latest_data['D'] = talib.STOCH(latest_data['最高'], latest_data['最低'], latest_data['收盘'], fastk_period=14, slowk_period=3, slowd_period=3)\n",
    "latest_data['J'] = 3 * latest_data['K'] - 2 * latest_data['D']\n",
    "latest_data['MA5'] = talib.MA(latest_data['收盘'], timeperiod=5)\n",
    "latest_data['MA10'] = talib.MA(latest_data['收盘'], timeperiod=10)\n",
    "latest_data['Volume_MA5'] = talib.MA(latest_data['成交量'], timeperiod=5)\n",
    "latest_data['Volume_MA10'] = talib.MA(latest_data['成交量'], timeperiod=10)\n",
    "latest_data['Volume_Ratio'] = latest_data['成交量'] / latest_data['Volume_MA5']\n",
    "\n",
    "\n",
    "market_status = market_analysis(latest_data)\n",
    "print(\"市场数据日期：\", end_date_str)\n",
    "print(\"市场状态研判:\", market_status)\n",
    "\n",
    "\n",
    "trading_plan_output = trading_plan(latest_data)\n",
    "print(\"交易执行方案:\", trading_plan_output)\n",
    "\n",
    "batch_entry_output = batch_entry_plan(latest_data)\n",
    "print(\"分批建仓计划:\", batch_entry_output)\n",
    "\n",
    "profit_taking_output = profit_taking_plan(latest_data)\n",
    "print(\"止盈加仓计划:\", profit_taking_output)\n",
    "\n",
    "risk_management_output = risk_management_plan()\n",
    "\n",
    "#latest_data"
   ]
  },
  {
   "cell_type": "code",
   "execution_count": 12,
   "id": "23004ff6b0558bf2",
   "metadata": {
    "ExecuteTime": {
     "end_time": "2025-02-18T03:21:47.117904Z",
     "start_time": "2025-02-18T03:21:47.110558Z"
    }
   },
   "outputs": [],
   "source": [
    "# 按日期筛选数据\n",
    "latest_data = latest_data[latest_data['日期'] >= '2024-01-01']\n",
    "#latest_data"
   ]
  },
  {
   "cell_type": "code",
   "execution_count": 13,
   "id": "3796b9c0ac56b115",
   "metadata": {
    "ExecuteTime": {
     "end_time": "2025-02-18T03:21:47.193865Z",
     "start_time": "2025-02-18T03:21:47.188573Z"
    }
   },
   "outputs": [],
   "source": [
    "#from datetime import date\n",
    "#today = date.today()\n",
    "#target_date = date(2024, 11, 7)\n",
    "#delta = today - target_date\n",
    "#print(f\"相差 {delta.days} 天\")"
   ]
  },
  {
   "cell_type": "code",
   "execution_count": 14,
   "id": "368bb2deb95a3140",
   "metadata": {
    "ExecuteTime": {
     "end_time": "2025-02-18T03:21:48.889905Z",
     "start_time": "2025-02-18T03:21:47.266103Z"
    }
   },
   "outputs": [
    {
     "name": "stderr",
     "output_type": "stream",
     "text": [
      "C:\\Users\\wangx\\anaconda3\\Lib\\site-packages\\matplotlib\\text.py:897: DeprecationWarning: Conversion of an array with ndim > 0 to a scalar is deprecated, and will error in future. Ensure you extract a single element from your array before performing this operation. (Deprecated NumPy 1.25.)\n",
      "  x = float(self.convert_xunits(self._x))\n"
     ]
    }
   ],
   "source": [
    "# 绘制价格和技术指标\n",
    "plt.figure(figsize=(14, 12))\n",
    "\n",
    "# 子图1: 价格和移动平均线\n",
    "plt.subplot(3, 1, 1)\n",
    "plt.plot(latest_data['日期'], latest_data['收盘'], label='收盘价', color='blue')\n",
    "plt.plot(latest_data['日期'], latest_data['MA5'], label='5日均线', color='orange')\n",
    "plt.plot(latest_data['日期'], latest_data['MA10'], label='10日均线', color='green')\n",
    "\n",
    "# 标注建仓价格\n",
    "entry_price = trading_plan_output[\"建仓价格\"]\n",
    "plt.axhline(entry_price, color='red', linestyle='--', label='建仓价格')\n",
    "plt.text(latest_data['日期'].iloc[-1], entry_price, f'建仓价格: {entry_price}', color='red', verticalalignment='bottom')\n",
    "\n",
    "# 标注止损和止盈\n",
    "stop_loss = trading_plan_output[\"首次止损\"]\n",
    "take_profit = trading_plan_output[\"首次止盈\"]\n",
    "plt.axhline(stop_loss, color='gray', linestyle='--', label='止损')\n",
    "plt.axhline(take_profit, color='green', linestyle='--', label='止盈')\n",
    "plt.text(latest_data['日期'].iloc[-1], stop_loss, f'止损: {stop_loss}', color='gray', verticalalignment='bottom')\n",
    "plt.text(latest_data['日期'].iloc[-1], take_profit, f'止盈: {take_profit}', color='green', verticalalignment='bottom')\n",
    "\n",
    "plt.title(f'{stock_code} {end_date_str}价格与移动平均线')\n",
    "plt.legend()\n",
    "plt.grid(True)\n",
    "plt.xticks([])\n",
    "\n",
    "# 子图2: MACD\n",
    "plt.subplot(3, 1, 2)\n",
    "plt.plot(latest_data['日期'], latest_data['MACD'], label='MACD', color='blue')\n",
    "plt.plot(latest_data['日期'], latest_data['MACD_signal'], label='MACD信号线', color='red')\n",
    "plt.bar(latest_data['日期'], latest_data['MACD_hist'], label='MACD柱状图', color='gray')\n",
    "\n",
    "\n",
    "# 标注MACD交易信号\n",
    "action = trading_plan_output[\"交易方向\"]+\"/\"+market_status[\"当前趋势\"]+\"/市场\"+market_status[\"市场强度\"]+\"/爆发\"+market_status[\"爆发力\"]\n",
    "if action == \"做多/上升/市场中/爆发强\":\n",
    "    plt.text(latest_data['日期'].iloc[-1], latest_data['MACD'].iloc[-1], action, color='green', verticalalignment='bottom')\n",
    "elif action in {\"做空/下降/市场中/爆发强\", \"做空/下降/市场中/爆发中\"}:\n",
    "    plt.text(latest_data['日期'].iloc[-1], latest_data['MACD'].iloc[-1], action, color='red', verticalalignment='bottom')\n",
    "else:\n",
    "    plt.text(latest_data['日期'].iloc[-1], latest_data['MACD'].iloc[-1], action, color='grey', verticalalignment='bottom')\n",
    "#if trading_plan_output[\"交易方向\"] == \"做多\":\n",
    "#    plt.text(latest_data['日期'].iloc[-1], latest_data['MACD'].iloc[-1], '做多信号', color='green', verticalalignment='bottom')\n",
    "#elif trading_plan_output[\"交易方向\"] == \"做空\":\n",
    "#    plt.text(latest_data['日期'].iloc[-1], latest_data['MACD'].iloc[-1], '做空信号', color='red', verticalalignment='bottom')\n",
    "\n",
    "plt.title('MACD指标')\n",
    "plt.legend()\n",
    "plt.grid(True)\n",
    "plt.xticks([])\n",
    "\n",
    "# 子图3: RSI\n",
    "plt.subplot(3, 1, 3)\n",
    "plt.plot(latest_data['日期'], latest_data['RSI'], label='RSI', color='purple')\n",
    "plt.axhline(70, color='red', linestyle='--', label='超买线 (70)')\n",
    "plt.axhline(30, color='green', linestyle='--', label='超卖线 (30)')\n",
    "\n",
    "# 标注RSI超买超卖信号\n",
    "if latest_data['RSI'].iloc[-1] > 70:\n",
    "    RSIdata= '超买'+str(round(latest_data['RSI'].iloc[-1],0))\n",
    "    plt.text(latest_data['日期'].iloc[-1], latest_data['RSI'].iloc[-1], RSIdata, color='red', verticalalignment='bottom')\n",
    "elif latest_data['RSI'].iloc[-1] < 30:\n",
    "    RSIdata= '超卖'+str(round(latest_data['RSI'].iloc[-1],0))\n",
    "    plt.text(latest_data['日期'].iloc[-1], latest_data['RSI'].iloc[-1], RSIdata, color='green', verticalalignment='bottom')\n",
    "\n",
    "plt.title('RSI指标')\n",
    "plt.legend()\n",
    "plt.grid(True)\n",
    "\n",
    "plt.tight_layout()\n",
    "plt.xticks([])\n",
    "plt.show(block=False)"
   ]
  }
 ],
 "metadata": {
  "kernelspec": {
   "display_name": "Python [conda env:base] *",
   "language": "python",
   "name": "conda-base-py"
  },
  "language_info": {
   "codemirror_mode": {
    "name": "ipython",
    "version": 3
   },
   "file_extension": ".py",
   "mimetype": "text/x-python",
   "name": "python",
   "nbconvert_exporter": "python",
   "pygments_lexer": "ipython3",
   "version": "3.12.7"
  }
 },
 "nbformat": 4,
 "nbformat_minor": 5
}
